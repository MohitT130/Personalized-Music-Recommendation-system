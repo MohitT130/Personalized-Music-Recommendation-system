{
 "cells": [
  {
   "cell_type": "code",
   "execution_count": 4,
   "id": "3a56ba64",
   "metadata": {},
   "outputs": [
    {
     "data": {
      "text/html": [
       "<div>\n",
       "<style scoped>\n",
       "    .dataframe tbody tr th:only-of-type {\n",
       "        vertical-align: middle;\n",
       "    }\n",
       "\n",
       "    .dataframe tbody tr th {\n",
       "        vertical-align: top;\n",
       "    }\n",
       "\n",
       "    .dataframe thead th {\n",
       "        text-align: right;\n",
       "    }\n",
       "</style>\n",
       "<table border=\"1\" class=\"dataframe\">\n",
       "  <thead>\n",
       "    <tr style=\"text-align: right;\">\n",
       "      <th></th>\n",
       "      <th>artist</th>\n",
       "      <th>song</th>\n",
       "      <th>link</th>\n",
       "      <th>text</th>\n",
       "    </tr>\n",
       "  </thead>\n",
       "  <tbody>\n",
       "    <tr>\n",
       "      <th>0</th>\n",
       "      <td>ABBA</td>\n",
       "      <td>Ahe's My Kind Of Girl</td>\n",
       "      <td>/a/abba/ahes+my+kind+of+girl_20598417.html</td>\n",
       "      <td>Look at her face, it's a wonderful face  \\nAnd...</td>\n",
       "    </tr>\n",
       "    <tr>\n",
       "      <th>1</th>\n",
       "      <td>ABBA</td>\n",
       "      <td>Andante, Andante</td>\n",
       "      <td>/a/abba/andante+andante_20002708.html</td>\n",
       "      <td>Take it easy with me, please  \\nTouch me gentl...</td>\n",
       "    </tr>\n",
       "    <tr>\n",
       "      <th>2</th>\n",
       "      <td>ABBA</td>\n",
       "      <td>As Good As New</td>\n",
       "      <td>/a/abba/as+good+as+new_20003033.html</td>\n",
       "      <td>I'll never know why I had to go  \\nWhy I had t...</td>\n",
       "    </tr>\n",
       "    <tr>\n",
       "      <th>3</th>\n",
       "      <td>ABBA</td>\n",
       "      <td>Bang</td>\n",
       "      <td>/a/abba/bang_20598415.html</td>\n",
       "      <td>Making somebody happy is a question of give an...</td>\n",
       "    </tr>\n",
       "    <tr>\n",
       "      <th>4</th>\n",
       "      <td>ABBA</td>\n",
       "      <td>Bang-A-Boomerang</td>\n",
       "      <td>/a/abba/bang+a+boomerang_20002668.html</td>\n",
       "      <td>Making somebody happy is a question of give an...</td>\n",
       "    </tr>\n",
       "  </tbody>\n",
       "</table>\n",
       "</div>"
      ],
      "text/plain": [
       "  artist                   song                                        link  \\\n",
       "0   ABBA  Ahe's My Kind Of Girl  /a/abba/ahes+my+kind+of+girl_20598417.html   \n",
       "1   ABBA       Andante, Andante       /a/abba/andante+andante_20002708.html   \n",
       "2   ABBA         As Good As New        /a/abba/as+good+as+new_20003033.html   \n",
       "3   ABBA                   Bang                  /a/abba/bang_20598415.html   \n",
       "4   ABBA       Bang-A-Boomerang      /a/abba/bang+a+boomerang_20002668.html   \n",
       "\n",
       "                                                text  \n",
       "0  Look at her face, it's a wonderful face  \\nAnd...  \n",
       "1  Take it easy with me, please  \\nTouch me gentl...  \n",
       "2  I'll never know why I had to go  \\nWhy I had t...  \n",
       "3  Making somebody happy is a question of give an...  \n",
       "4  Making somebody happy is a question of give an...  "
      ]
     },
     "execution_count": 4,
     "metadata": {},
     "output_type": "execute_result"
    }
   ],
   "source": [
    "df = pd.read_csv('songdata.csv')\n",
    "df.head()"
   ]
  },
  {
   "cell_type": "code",
   "execution_count": 5,
   "id": "494a11e4",
   "metadata": {},
   "outputs": [],
   "source": [
    "import numpy as np\n",
    "import pandas as pd"
   ]
  },
  {
   "cell_type": "code",
   "execution_count": 6,
   "id": "21835f54",
   "metadata": {},
   "outputs": [
    {
     "data": {
      "text/plain": [
       "(57650, 4)"
      ]
     },
     "execution_count": 6,
     "metadata": {},
     "output_type": "execute_result"
    }
   ],
   "source": [
    "df.shape"
   ]
  },
  {
   "cell_type": "code",
   "execution_count": 7,
   "id": "0a74cc1b",
   "metadata": {},
   "outputs": [
    {
     "data": {
      "text/html": [
       "<div>\n",
       "<style scoped>\n",
       "    .dataframe tbody tr th:only-of-type {\n",
       "        vertical-align: middle;\n",
       "    }\n",
       "\n",
       "    .dataframe tbody tr th {\n",
       "        vertical-align: top;\n",
       "    }\n",
       "\n",
       "    .dataframe thead th {\n",
       "        text-align: right;\n",
       "    }\n",
       "</style>\n",
       "<table border=\"1\" class=\"dataframe\">\n",
       "  <thead>\n",
       "    <tr style=\"text-align: right;\">\n",
       "      <th></th>\n",
       "      <th>artist</th>\n",
       "      <th>song</th>\n",
       "      <th>text</th>\n",
       "    </tr>\n",
       "  </thead>\n",
       "  <tbody>\n",
       "    <tr>\n",
       "      <th>56485</th>\n",
       "      <td>Widespread Panic</td>\n",
       "      <td>You Got Yours</td>\n",
       "      <td>I've got my cat in the yard  \\nAnd I've got my...</td>\n",
       "    </tr>\n",
       "    <tr>\n",
       "      <th>50157</th>\n",
       "      <td>Rascal Flatts</td>\n",
       "      <td>I Have Never Been To Memphis</td>\n",
       "      <td>I come from California  \\nWhere you say no one...</td>\n",
       "    </tr>\n",
       "    <tr>\n",
       "      <th>642</th>\n",
       "      <td>America</td>\n",
       "      <td>Chasing The Rainbow</td>\n",
       "      <td>Sat here thinking about my heart  \\nAll of the...</td>\n",
       "    </tr>\n",
       "    <tr>\n",
       "      <th>37640</th>\n",
       "      <td>Jennifer Lopez</td>\n",
       "      <td>Hiciste</td>\n",
       "      <td>Listen too me  \\nBaby wont you go  \\nBut still...</td>\n",
       "    </tr>\n",
       "    <tr>\n",
       "      <th>39131</th>\n",
       "      <td>Justin Bieber</td>\n",
       "      <td>Can't Live Without You</td>\n",
       "      <td>[Verse:]  \\nI just sit here waiting for you to...</td>\n",
       "    </tr>\n",
       "    <tr>\n",
       "      <th>...</th>\n",
       "      <td>...</td>\n",
       "      <td>...</td>\n",
       "      <td>...</td>\n",
       "    </tr>\n",
       "    <tr>\n",
       "      <th>14965</th>\n",
       "      <td>One Direction</td>\n",
       "      <td>Little Things</td>\n",
       "      <td>Your hand fits in mine like it's made just for...</td>\n",
       "    </tr>\n",
       "    <tr>\n",
       "      <th>35112</th>\n",
       "      <td>Hank Snow</td>\n",
       "      <td>Little Stranger (In A Manger)</td>\n",
       "      <td>Little stranger in a manger little stranger sw...</td>\n",
       "    </tr>\n",
       "    <tr>\n",
       "      <th>12357</th>\n",
       "      <td>Mariah Carey</td>\n",
       "      <td>For The Record</td>\n",
       "      <td>For the record  \\nYou oughta know  \\nYou wasn'...</td>\n",
       "    </tr>\n",
       "    <tr>\n",
       "      <th>42019</th>\n",
       "      <td>Loretta Lynn</td>\n",
       "      <td>Indian Lake</td>\n",
       "      <td>Indian Lake is a scene you should make with yo...</td>\n",
       "    </tr>\n",
       "    <tr>\n",
       "      <th>46455</th>\n",
       "      <td>Ocean Colour Scene</td>\n",
       "      <td>I Wanna Stay Alive With You</td>\n",
       "      <td>I'm not one to judge that much  \\nAnd anyway I...</td>\n",
       "    </tr>\n",
       "  </tbody>\n",
       "</table>\n",
       "<p>5000 rows × 3 columns</p>\n",
       "</div>"
      ],
      "text/plain": [
       "                   artist                           song  \\\n",
       "56485    Widespread Panic                  You Got Yours   \n",
       "50157       Rascal Flatts   I Have Never Been To Memphis   \n",
       "642               America            Chasing The Rainbow   \n",
       "37640      Jennifer Lopez                        Hiciste   \n",
       "39131       Justin Bieber         Can't Live Without You   \n",
       "...                   ...                            ...   \n",
       "14965       One Direction                  Little Things   \n",
       "35112           Hank Snow  Little Stranger (In A Manger)   \n",
       "12357        Mariah Carey                 For The Record   \n",
       "42019        Loretta Lynn                    Indian Lake   \n",
       "46455  Ocean Colour Scene    I Wanna Stay Alive With You   \n",
       "\n",
       "                                                    text  \n",
       "56485  I've got my cat in the yard  \\nAnd I've got my...  \n",
       "50157  I come from California  \\nWhere you say no one...  \n",
       "642    Sat here thinking about my heart  \\nAll of the...  \n",
       "37640  Listen too me  \\nBaby wont you go  \\nBut still...  \n",
       "39131  [Verse:]  \\nI just sit here waiting for you to...  \n",
       "...                                                  ...  \n",
       "14965  Your hand fits in mine like it's made just for...  \n",
       "35112  Little stranger in a manger little stranger sw...  \n",
       "12357  For the record  \\nYou oughta know  \\nYou wasn'...  \n",
       "42019  Indian Lake is a scene you should make with yo...  \n",
       "46455  I'm not one to judge that much  \\nAnd anyway I...  \n",
       "\n",
       "[5000 rows x 3 columns]"
      ]
     },
     "execution_count": 7,
     "metadata": {},
     "output_type": "execute_result"
    }
   ],
   "source": [
    "df.sample(n=5000).drop('link',axis=1)"
   ]
  },
  {
   "cell_type": "code",
   "execution_count": 8,
   "id": "d6e74ba4",
   "metadata": {},
   "outputs": [],
   "source": [
    "# the indexing is not started from 0 so we will write this as "
   ]
  },
  {
   "cell_type": "code",
   "execution_count": 9,
   "id": "33eb0120",
   "metadata": {},
   "outputs": [
    {
     "data": {
      "text/html": [
       "<div>\n",
       "<style scoped>\n",
       "    .dataframe tbody tr th:only-of-type {\n",
       "        vertical-align: middle;\n",
       "    }\n",
       "\n",
       "    .dataframe tbody tr th {\n",
       "        vertical-align: top;\n",
       "    }\n",
       "\n",
       "    .dataframe thead th {\n",
       "        text-align: right;\n",
       "    }\n",
       "</style>\n",
       "<table border=\"1\" class=\"dataframe\">\n",
       "  <thead>\n",
       "    <tr style=\"text-align: right;\">\n",
       "      <th></th>\n",
       "      <th>artist</th>\n",
       "      <th>song</th>\n",
       "      <th>text</th>\n",
       "    </tr>\n",
       "  </thead>\n",
       "  <tbody>\n",
       "    <tr>\n",
       "      <th>0</th>\n",
       "      <td>Lou Reed</td>\n",
       "      <td>Heroin</td>\n",
       "      <td>I don't know just where I'm going  \\nBut I'm g...</td>\n",
       "    </tr>\n",
       "    <tr>\n",
       "      <th>1</th>\n",
       "      <td>John Prine</td>\n",
       "      <td>Humidity Built The Snowman</td>\n",
       "      <td>Does he still think about her  \\nWhy there was...</td>\n",
       "    </tr>\n",
       "    <tr>\n",
       "      <th>2</th>\n",
       "      <td>Pet Shop Boys</td>\n",
       "      <td>Send Me An Angel</td>\n",
       "      <td>Do you believe in heaven above?  \\nDo you beli...</td>\n",
       "    </tr>\n",
       "    <tr>\n",
       "      <th>3</th>\n",
       "      <td>Pogues</td>\n",
       "      <td>Fairytale Of New York</td>\n",
       "      <td>It was Christmas Eve babe  \\nIn the drunk tank...</td>\n",
       "    </tr>\n",
       "    <tr>\n",
       "      <th>4</th>\n",
       "      <td>David Allan Coe</td>\n",
       "      <td>If That Ain't Country</td>\n",
       "      <td>The old man was covered with tattoos and scars...</td>\n",
       "    </tr>\n",
       "    <tr>\n",
       "      <th>...</th>\n",
       "      <td>...</td>\n",
       "      <td>...</td>\n",
       "      <td>...</td>\n",
       "    </tr>\n",
       "    <tr>\n",
       "      <th>4995</th>\n",
       "      <td>U2</td>\n",
       "      <td>A Room At The Heartbreak Hotel</td>\n",
       "      <td>From where I stand  \\nI can see through you  \\...</td>\n",
       "    </tr>\n",
       "    <tr>\n",
       "      <th>4996</th>\n",
       "      <td>Tori Amos</td>\n",
       "      <td>Angie</td>\n",
       "      <td>Angie, Angie  \\nWhen will those clouds all dis...</td>\n",
       "    </tr>\n",
       "    <tr>\n",
       "      <th>4997</th>\n",
       "      <td>Chris Brown</td>\n",
       "      <td>Fools With You</td>\n",
       "      <td>White Flag Hangs Up, I Aint Got No Room For Th...</td>\n",
       "    </tr>\n",
       "    <tr>\n",
       "      <th>4998</th>\n",
       "      <td>INXS</td>\n",
       "      <td>All Around</td>\n",
       "      <td>I see the rising sun  \\nI feel the warming one...</td>\n",
       "    </tr>\n",
       "    <tr>\n",
       "      <th>4999</th>\n",
       "      <td>Yngwie Malmsteen</td>\n",
       "      <td>Never Die</td>\n",
       "      <td>Forever and ever  \\nmy spirit will soar  \\njou...</td>\n",
       "    </tr>\n",
       "  </tbody>\n",
       "</table>\n",
       "<p>5000 rows × 3 columns</p>\n",
       "</div>"
      ],
      "text/plain": [
       "                artist                            song  \\\n",
       "0             Lou Reed                          Heroin   \n",
       "1           John Prine      Humidity Built The Snowman   \n",
       "2        Pet Shop Boys                Send Me An Angel   \n",
       "3               Pogues           Fairytale Of New York   \n",
       "4      David Allan Coe           If That Ain't Country   \n",
       "...                ...                             ...   \n",
       "4995                U2  A Room At The Heartbreak Hotel   \n",
       "4996         Tori Amos                           Angie   \n",
       "4997       Chris Brown                  Fools With You   \n",
       "4998              INXS                      All Around   \n",
       "4999  Yngwie Malmsteen                       Never Die   \n",
       "\n",
       "                                                   text  \n",
       "0     I don't know just where I'm going  \\nBut I'm g...  \n",
       "1     Does he still think about her  \\nWhy there was...  \n",
       "2     Do you believe in heaven above?  \\nDo you beli...  \n",
       "3     It was Christmas Eve babe  \\nIn the drunk tank...  \n",
       "4     The old man was covered with tattoos and scars...  \n",
       "...                                                 ...  \n",
       "4995  From where I stand  \\nI can see through you  \\...  \n",
       "4996  Angie, Angie  \\nWhen will those clouds all dis...  \n",
       "4997  White Flag Hangs Up, I Aint Got No Room For Th...  \n",
       "4998  I see the rising sun  \\nI feel the warming one...  \n",
       "4999  Forever and ever  \\nmy spirit will soar  \\njou...  \n",
       "\n",
       "[5000 rows x 3 columns]"
      ]
     },
     "execution_count": 9,
     "metadata": {},
     "output_type": "execute_result"
    }
   ],
   "source": [
    "df.sample(n=5000).drop('link',axis=1).reset_index(drop=True)"
   ]
  },
  {
   "cell_type": "code",
   "execution_count": 10,
   "id": "fc733908",
   "metadata": {},
   "outputs": [],
   "source": [
    "df = df.sample(n=5000).drop('link',axis=1).reset_index(drop=True)"
   ]
  },
  {
   "cell_type": "code",
   "execution_count": 11,
   "id": "fe84f3b1",
   "metadata": {},
   "outputs": [],
   "source": [
    "# hum text ke column ko clean karke unke ek order mein vecors bana rahe honge"
   ]
  },
  {
   "cell_type": "code",
   "execution_count": 12,
   "id": "83ab6cb0",
   "metadata": {},
   "outputs": [
    {
     "data": {
      "text/plain": [
       "0        Joni Mitchell\n",
       "1           Vince Gill\n",
       "2           Jason Mraz\n",
       "3            Van Halen\n",
       "4         Joy Division\n",
       "             ...      \n",
       "4995       Wiz Khalifa\n",
       "4996    Jackson Browne\n",
       "4997       Cat Stevens\n",
       "4998     Dan Fogelberg\n",
       "4999       Tom T. Hall\n",
       "Name: artist, Length: 5000, dtype: object"
      ]
     },
     "execution_count": 12,
     "metadata": {},
     "output_type": "execute_result"
    }
   ],
   "source": [
    "# We are going to perform cleaning\n",
    "df['artist']"
   ]
  },
  {
   "cell_type": "code",
   "execution_count": 13,
   "id": "365a6f5b",
   "metadata": {},
   "outputs": [
    {
     "data": {
      "text/plain": [
       "0                               Mister Blue\n",
       "1                        What's A Man To Do\n",
       "2                Dream Life Of Rand Mcnally\n",
       "3       Where Have All The Good Times Gone!\n",
       "4                            Leaders Of Men\n",
       "                       ...                 \n",
       "4995                       Star Of The Show\n",
       "4996                          The Pretender\n",
       "4997                          Sweet Jamaica\n",
       "4998                           Heart Hotels\n",
       "4999                         Fox On The Run\n",
       "Name: song, Length: 5000, dtype: object"
      ]
     },
     "execution_count": 13,
     "metadata": {},
     "output_type": "execute_result"
    }
   ],
   "source": [
    "df['song']"
   ]
  },
  {
   "cell_type": "code",
   "execution_count": 14,
   "id": "8f6e7100",
   "metadata": {},
   "outputs": [
    {
     "data": {
      "text/plain": [
       "'Mister Blue'"
      ]
     },
     "execution_count": 14,
     "metadata": {},
     "output_type": "execute_result"
    }
   ],
   "source": [
    "df['song'][0]  # 1st song ko dikhaega ye sirf"
   ]
  },
  {
   "cell_type": "code",
   "execution_count": 15,
   "id": "a947c69c",
   "metadata": {},
   "outputs": [
    {
     "data": {
      "text/plain": [
       "0       What's the story, Mr. Blue  \\nDid she pull the...\n",
       "1       Before the tears I've cried  \\nHave even dried...\n",
       "2       Who is he, Mr. Rand McNally?  \\nI had I dream ...\n",
       "3       All my life I've never stopped to worry 'bout ...\n",
       "4       Born from some mother's womb,  \\nJust like any...\n",
       "                              ...                        \n",
       "4995    Yeah  \\nUgh  \\nUgh  \\nUgh  \\n  \\nSee I've been...\n",
       "4996    I'm going to rent myself a house  \\nIn the sha...\n",
       "4997    Other people come and go  \\nThey try to make i...\n",
       "4998    Well there's too many windows in this old hote...\n",
       "4999    [Chorus]  \\nShe walks through the corn leadin'...\n",
       "Name: text, Length: 5000, dtype: object"
      ]
     },
     "execution_count": 15,
     "metadata": {},
     "output_type": "execute_result"
    }
   ],
   "source": [
    "df['text']"
   ]
  },
  {
   "cell_type": "code",
   "execution_count": 16,
   "id": "6f061120",
   "metadata": {},
   "outputs": [
    {
     "data": {
      "text/plain": [
       "\"What's the story, Mr. Blue  \\nDid she pull the rug from under you  \\nDid she chop your dreams up two by two  \\nAnd kick them out the door  \\nI could sympathize you, son  \\nBut pity words stick to my tongue  \\nAnd sorry words have all been sung  \\nSo many times before  \\n  \\nOh, Mr. Blue, you blew your chances long ago  \\nOh, Mr. Blue, you're through  \\nQuit acting like you didn't know  \\n  \\nHang on one more day or two  \\nThen I promise I'll be laying you  \\nOdds that she's found someone new  \\nWhile you stand around and rust  \\nShe don't need no part-time man  \\nWith no part-time answer, understand  \\nShe don't want an hour's fall of sand  \\nFor a lifetime full of dust  \\n  \\nOh, Mr. Blue, you blew your chances long ago  \\nOh, Mr. Blue, you're through  \\nQuit acting like you didn't know  \\n  \\nMr. Blue, you missed the shot  \\nDidn't turn out quite the way you thought  \\nIt would, I'll bet, cause you got caught  \\nOut playing Donald Juan  \\nShe's got polish, she's got class  \\nAnd someday when on the street you pass her house  \\nYou'll wonder why the grass  \\nLooks greener on her lawn  \\n  \\nOh, Mr. Blue, you blew your chances long ago  \\nOh, Mr. Blue, you're through  \\nQuit acting like it isn't so\\n\\n\""
      ]
     },
     "execution_count": 16,
     "metadata": {},
     "output_type": "execute_result"
    }
   ],
   "source": [
    "df['text'][0]"
   ]
  },
  {
   "cell_type": "code",
   "execution_count": 17,
   "id": "1d982c2a",
   "metadata": {},
   "outputs": [
    {
     "data": {
      "text/plain": [
       "0       what's the story, mr. blue  \\ndid she pull the...\n",
       "1       before the tears i've cried  \\nhave even dried...\n",
       "2       who is he, mr. rand mcnally?  \\ni had i dream ...\n",
       "3       all my life i've never stopped to worry 'bout ...\n",
       "4       born from some mother's womb,  \\njust like any...\n",
       "                              ...                        \n",
       "4995    yeah  \\nugh  \\nugh  \\nugh  \\n  \\nsee i've been...\n",
       "4996    i'm going to rent myself a house  \\nin the sha...\n",
       "4997    other people come and go  \\nthey try to make i...\n",
       "4998    well there's too many windows in this old hote...\n",
       "4999    [chorus]  \\nshe walks through the corn leadin'...\n",
       "Name: text, Length: 5000, dtype: object"
      ]
     },
     "execution_count": 17,
     "metadata": {},
     "output_type": "execute_result"
    }
   ],
   "source": [
    "# now we are going to start cleaning of texts\n",
    "df['text'].str.lower().replace(r'[a-zA-Z0-9]','')   # yahan hum lower later mein convert kar de rahe agar text mein any later is present in capital usko\n",
    "#ye tarika hota hai replace karane kaaa jahan except a-z, A-Z and 0-9 , we are removing each and every data from text\n",
    "# humne comma dekar '' isliye chora hai kyunki saare special characters kaa replacemeny ho raha with ''\n"
   ]
  },
  {
   "cell_type": "code",
   "execution_count": 18,
   "id": "3bd26bd9",
   "metadata": {},
   "outputs": [
    {
     "data": {
      "text/plain": [
       "0       what's the story, mr. blue  \\ndid she pull the...\n",
       "1       before the tears i've cried  \\nhave even dried...\n",
       "2       who is he, mr. rand mcnally?  \\ni had i dream ...\n",
       "3       all my life i've never stopped to worry 'bout ...\n",
       "4       born from some mother's womb,  \\njust like any...\n",
       "                              ...                        \n",
       "4995    yeah  \\nugh  \\nugh  \\nugh  \\n  \\nsee i've been...\n",
       "4996    i'm going to rent myself a house  \\nin the sha...\n",
       "4997    other people come and go  \\nthey try to make i...\n",
       "4998    well there's too many windows in this old hote...\n",
       "4999    [chorus]  \\nshe walks through the corn leadin'...\n",
       "Name: text, Length: 5000, dtype: object"
      ]
     },
     "execution_count": 18,
     "metadata": {},
     "output_type": "execute_result"
    }
   ],
   "source": [
    "# above replcement ko ek aur tarike se likha jaa sakta hai\n",
    "df['text'].str.lower().replace(r'[^\\w\\s]','')"
   ]
  },
  {
   "cell_type": "code",
   "execution_count": 19,
   "id": "386800de",
   "metadata": {},
   "outputs": [],
   "source": [
    "# now hum \\n par bhi kaam karne jaa rahe hain\n",
    "df['text'] = df['text'].str.lower().replace(r'[^\\w\\s]','').replace(r'\\n', ' ',regex=True)\n",
    "#REPLACE KE ANDER JO R HAI THAT IS SHOWING READ PART AND AFTER READING WE ARE REPLACING \\N WITH ' '\n",
    "#SEARCH FOR REGEX\n",
    "# note :- never forget to update, and update karne kaa tarika hai as given, df[''] = df[''].(any operation which we have perform)"
   ]
  },
  {
   "cell_type": "code",
   "execution_count": 20,
   "id": "cd1bc312",
   "metadata": {},
   "outputs": [
    {
     "data": {
      "text/plain": [
       "\"what's the story, mr. blue   did she pull the rug from under you   did she chop your dreams up two by two   and kick them out the door   i could sympathize you, son   but pity words stick to my tongue   and sorry words have all been sung   so many times before      oh, mr. blue, you blew your chances long ago   oh, mr. blue, you're through   quit acting like you didn't know      hang on one more day or two   then i promise i'll be laying you   odds that she's found someone new   while you stand around and rust   she don't need no part-time man   with no part-time answer, understand   she don't want an hour's fall of sand   for a lifetime full of dust      oh, mr. blue, you blew your chances long ago   oh, mr. blue, you're through   quit acting like you didn't know      mr. blue, you missed the shot   didn't turn out quite the way you thought   it would, i'll bet, cause you got caught   out playing donald juan   she's got polish, she's got class   and someday when on the street you pass her house   you'll wonder why the grass   looks greener on her lawn      oh, mr. blue, you blew your chances long ago   oh, mr. blue, you're through   quit acting like it isn't so  \""
      ]
     },
     "execution_count": 20,
     "metadata": {},
     "output_type": "execute_result"
    }
   ],
   "source": [
    "df['text'][0]"
   ]
  },
  {
   "cell_type": "code",
   "execution_count": 21,
   "id": "9bf3510f",
   "metadata": {},
   "outputs": [],
   "source": [
    "# now we will do tokanization \n",
    "# ye kya hota hai?\n",
    "# eg:- we have a statement:- \"my name is mohit tripathi\"\n",
    "# after doing this the statement will look like:- \"my, name, is, mohit, tripathi\"\n",
    "\n",
    "#  &\n",
    "\n",
    "# we will perform \"steming\" , ismein kya hota hai?\n",
    "# for example we have various words:- (love, loving, loved, lovely)===> so we will show represent all these words with only singe word and that is \"love\"\n"
   ]
  },
  {
   "cell_type": "code",
   "execution_count": null,
   "id": "a8a63c52",
   "metadata": {},
   "outputs": [],
   "source": [
    "%pip uninstall nltk\n",
    "%pip install nltk\n"
   ]
  },
  {
   "cell_type": "code",
   "execution_count": null,
   "id": "e70dd244",
   "metadata": {},
   "outputs": [],
   "source": [
    "import nltk  \n",
    "# The Natural Language Toolkit (NLTK) is a Python programming environment for creating applications for statistical natural language processing (NLP). It includes language processing libraries for tokenization, parsing, classification, stemming, labeling, and semantic reasoning.\n",
    "from nltk.stem.porter import PorterStemmer   # ye kisi bhi word ko uske apne bas form mein laa deta hai\n",
    "from nltk.stem import PorterStemmer\n",
    "from nltk.tokenize import word_tokenize\n",
    "\n",
    "ps = PorterStemmer()   # created an object, ye base form mein laayega kisi bhi fomat mein maujud word ko\n",
    "# example:- we have various words:- (love, loving, loved, lovely)===> so we will show represent all these words with only singe word and that is \"love\"\n",
    "\n",
    "# now tokanization ko perform karenge\n",
    "\n",
    "  #stemming = []\n",
    "def tokenization(txt):       # we created an function jahan pe koyi saa bhi text aayega to uspe ye work karega\n",
    "    tokens = nltk.word_tokenize(txt)\n",
    "    stemming = [ps.stem(w) for w in tokens]\n",
    "    #for w in tokens:      # w for words \n",
    "       # stemming.append(ps.stem(w))     #empty list stemming mein ab sab append ho jaega\n",
    "        \n",
    "    return \" \".join(stemming)   # list ko string mein covert karke returning"
   ]
  },
  {
   "cell_type": "code",
   "execution_count": null,
   "id": "03a1f720",
   "metadata": {},
   "outputs": [],
   "source": [
    "nltk.download('punkt')"
   ]
  },
  {
   "cell_type": "code",
   "execution_count": null,
   "id": "d656e251",
   "metadata": {},
   "outputs": [],
   "source": [
    "# function testing \n",
    "tokenization('This is model for Music Recommendations loving loved')"
   ]
  },
  {
   "cell_type": "code",
   "execution_count": null,
   "id": "474d83c7",
   "metadata": {},
   "outputs": [],
   "source": [
    "# Ab function ko call maaarenge for our column\n",
    "df['text'] = df['text'].apply(lambda x: tokenization(x))"
   ]
  },
  {
   "cell_type": "code",
   "execution_count": null,
   "id": "ca4363e5",
   "metadata": {},
   "outputs": [],
   "source": [
    "df['text']"
   ]
  },
  {
   "cell_type": "code",
   "execution_count": null,
   "id": "5824cf9f",
   "metadata": {},
   "outputs": [],
   "source": [
    "from sklearn.feature_extraction.text import TfidfVectorizer\n",
    "from sklearn.metrics.pairwise import cosine_similarity"
   ]
  },
  {
   "cell_type": "code",
   "execution_count": null,
   "id": "f06db32c",
   "metadata": {},
   "outputs": [],
   "source": [
    "# Initialize the TfidfVectorizer\n",
    "tfidf = TfidfVectorizer(stop_words='english')\n",
    "\n",
    "# Fit and transform the text data\n",
    "matrix = tfidf.fit_transform(df['text'])\n",
    "\n",
    "# The matrix now contains the TF-IDF representation of the text data"
   ]
  },
  {
   "cell_type": "code",
   "execution_count": null,
   "id": "9d57ab45",
   "metadata": {},
   "outputs": [],
   "source": [
    "matrix"
   ]
  },
  {
   "cell_type": "code",
   "execution_count": null,
   "id": "e57b3417",
   "metadata": {},
   "outputs": [],
   "source": [
    "matrix.shape"
   ]
  },
  {
   "cell_type": "code",
   "execution_count": null,
   "id": "d3c6c45d",
   "metadata": {},
   "outputs": [],
   "source": [
    "similarity = cosine_similarity(matrix)   # i want to closest distance/sabse kam difference waale words ko store kara raha hun"
   ]
  },
  {
   "cell_type": "code",
   "execution_count": null,
   "id": "935fdf20",
   "metadata": {},
   "outputs": [],
   "source": [
    "similarity"
   ]
  },
  {
   "cell_type": "code",
   "execution_count": null,
   "id": "a6441ee1",
   "metadata": {},
   "outputs": [],
   "source": [
    "similarity[0]"
   ]
  },
  {
   "cell_type": "code",
   "execution_count": null,
   "id": "140750d0",
   "metadata": {},
   "outputs": [],
   "source": [
    "df['song'][0]"
   ]
  },
  {
   "cell_type": "code",
   "execution_count": null,
   "id": "f97845f2",
   "metadata": {},
   "outputs": [],
   "source": [
    "df[df['song'] == 'Let The Peace Of God Reign']"
   ]
  },
  {
   "cell_type": "code",
   "execution_count": null,
   "id": "2ed2d41e",
   "metadata": {},
   "outputs": [],
   "source": []
  },
  {
   "cell_type": "code",
   "execution_count": null,
   "id": "6ca03186",
   "metadata": {},
   "outputs": [],
   "source": [
    "def recommendation(song):   #we made a function jismein song aa raha hoga\n",
    "    idx = df[df['song'] == song].index[0]\n",
    "    distances = sorted(list(enumerate(similarity[idx])),reverse=False, key = lambda x:x[1])  # isse we will get the whole list/vector and last mein hum sorting kar denge\n",
    "    songs = [] # we created an empty list jismein sab ultimately aa raha hoga\n",
    "    for i in distances[1:21]:\n",
    "        songs.append(df.iloc[i[0]].song)\n",
    "        \n",
    "    return songs   # top 20 similar songs ko ye return kar de raha hoga\n",
    "    # it means ki jo pahla gaana tha uska baaki ke gaanon ke sath output/given similarity score hai\n",
    "#gaane kaa khud ke sath kuch output naa aaye uske liye we included last mein  key\n",
    "# last mein humne ek variable mein store kar diya hai overall function ko and that is distances\n",
    "# now we are going to operate a loop\n"
   ]
  },
  {
   "cell_type": "code",
   "execution_count": null,
   "id": "4ca9d34e",
   "metadata": {},
   "outputs": [],
   "source": [
    "recommendation('Enemy')  # now recommendation started for 20 "
   ]
  },
  {
   "cell_type": "code",
   "execution_count": null,
   "id": "e4e948b0",
   "metadata": {},
   "outputs": [],
   "source": [
    "import pickle\n",
    "\n",
    "# Make sure df and similarity are defined\n",
    "# For example:\n",
    "# df = ...\n",
    "# similarity = ...\n",
    "\n",
    "# Serialize the DataFrame and similarity matrix using pickle\n",
    "with open('df.pkl', 'wb') as df_file:\n",
    "    pickle.dump(df, df_file)\n",
    "\n",
    "with open('similarity.pkl', 'wb') as similarity_file:\n",
    "    pickle.dump(similarity, similarity_file)\n"
   ]
  },
  {
   "cell_type": "code",
   "execution_count": null,
   "id": "3b97b963",
   "metadata": {},
   "outputs": [],
   "source": []
  }
 ],
 "metadata": {
  "kernelspec": {
   "display_name": "Python 3 (ipykernel)",
   "language": "python",
   "name": "python3"
  },
  "language_info": {
   "codemirror_mode": {
    "name": "ipython",
    "version": 3
   },
   "file_extension": ".py",
   "mimetype": "text/x-python",
   "name": "python",
   "nbconvert_exporter": "python",
   "pygments_lexer": "ipython3",
   "version": "3.9.7"
  }
 },
 "nbformat": 4,
 "nbformat_minor": 5
}
